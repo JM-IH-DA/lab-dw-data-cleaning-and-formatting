{
 "cells": [
  {
   "cell_type": "markdown",
   "id": "b08593b7",
   "metadata": {},
   "source": []
  },
  {
   "cell_type": "code",
   "execution_count": null,
   "id": "cdde642f",
   "metadata": {},
   "outputs": [],
   "source": [
    "# data_cleaning\n",
    "\n",
    "import pandas as pd\n",
    "import numpy as np\n",
    "\n",
    "# \n",
    "\n",
    "\n",
    "#Cleaning invalid values\n",
    "\n",
    "def clean_gender(x):\n",
    "    if x in ['M','Male']:\n",
    "        return 'M'\n",
    "    elif x in ['F','female','Femal']:\n",
    "        return 'F'\n",
    "    else:\n",
    "        return 'U'\n",
    "    \n",
    "file1['gender'] = file1['gender'].apply(clean_gender)\n",
    "\n",
    "#Filling null values\n",
    "\n",
    "def fill_missing_numerical(df):\n",
    "    numerical_columns = df.select_dtypes(include=['number']).columns\n",
    "    for col in numerical_columns:\n",
    "        mean_value = df[col].mean()\n",
    "        df[col].fillna(mean_value, inplace=True)\n",
    "        \n",
    "def fill_missing_categorical(df):\n",
    "    categorical_columns = df.select_dtypes(include=['object']).columns\n",
    "    for col in categorical_columns:\n",
    "        mode_value = df[col].mode().values[0]\n",
    "        df[col].fillna(mode_value, inplace=True)\n",
    "\n",
    "fill_missing_numerical(file1)\n",
    "fill_missing_categorical(file1)\n",
    "\n",
    "#Convert dtypes\n",
    "\n",
    "def convert_to_integer(value):\n",
    "    try:\n",
    "        return int(value)\n",
    "    except (ValueError, TypeError):\n",
    "        return value\n",
    "    \n",
    "file1 = file1.applymap(convert_to_integer)\n",
    "\n",
    "\n",
    "def format_data(df):\n",
    "    # Convert all numeric variables to integers\n",
    "    df = df.applymap(convert_to_integer)\n",
    "    return df\n"
   ]
  }
 ],
 "metadata": {
  "kernelspec": {
   "display_name": "Python 3 (ipykernel)",
   "language": "python",
   "name": "python3"
  },
  "language_info": {
   "codemirror_mode": {
    "name": "ipython",
    "version": 3
   },
   "file_extension": ".py",
   "mimetype": "text/x-python",
   "name": "python",
   "nbconvert_exporter": "python",
   "pygments_lexer": "ipython3",
   "version": "3.11.5"
  }
 },
 "nbformat": 4,
 "nbformat_minor": 5
}
